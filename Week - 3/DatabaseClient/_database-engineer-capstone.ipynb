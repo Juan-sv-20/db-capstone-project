{
 "cells": [
  {
   "cell_type": "code",
   "execution_count": 2,
   "id": "acc625e0-4cc5-4a62-8404-7fd1e27f43e8",
   "metadata": {},
   "outputs": [],
   "source": [
    "# Import MySql Connector/Python\n",
    "import mysql.connector as connector\n",
    "\n",
    "connection = connector.connect(user=\"coder\", password=\"\", db=\"LittleLemonDM\");\n",
    "cursor = connection.cursor()"
   ]
  },
  {
   "cell_type": "code",
   "execution_count": 3,
   "id": "65b7e729-fa49-43b9-984f-b4a3c00b8682",
   "metadata": {},
   "outputs": [
    {
     "name": "stdout",
     "output_type": "stream",
     "text": [
      "('Bookings',)\n",
      "('Customers',)\n",
      "('Employees',)\n",
      "('Menu',)\n",
      "('MenuItem',)\n",
      "('Orders',)\n",
      "('ordersview',)\n",
      "('Tables',)\n"
     ]
    }
   ],
   "source": [
    "show_tables_query = \"\"\"SHOW tables\"\"\"\n",
    "cursor.execute(show_tables_query)\n",
    "\n",
    "results = cursor.fetchall()\n",
    "\n",
    "for x in results:\n",
    "    print(x)"
   ]
  },
  {
   "cell_type": "code",
   "execution_count": 9,
   "id": "b26071d2-8134-4dd2-9b79-c2dab4282a59",
   "metadata": {},
   "outputs": [],
   "source": [
    "cursor.callproc('orderesGreatestOf', [60])\n",
    "results = next(cursor.stored_results())\n",
    "dataset = results.fetchall()"
   ]
  },
  {
   "cell_type": "code",
   "execution_count": 10,
   "id": "3b22065d-c568-4a4f-88c7-c9a34496d0fe",
   "metadata": {},
   "outputs": [
    {
     "name": "stdout",
     "output_type": "stream",
     "text": [
      "['FullName', 'ContactNumber', 'Email']\n",
      "('Pedro juarez', 567123456, 'pedrojuarez@email.com')\n",
      "('Rodolfo andaluz', 456123679, 'rodolfoandaluz@email.com')\n",
      "('Ahtziry velasco', 789123456, 'ahtziryvelazco@email.com')\n"
     ]
    }
   ],
   "source": [
    "for column_id in cursor.stored_results():\n",
    "    columns = [column[0] for column in column_id.description]\n",
    "\n",
    "print(columns)\n",
    "\n",
    "for data in dataset:\n",
    "    print(data)"
   ]
  },
  {
   "cell_type": "code",
   "execution_count": null,
   "id": "de75ced3-d8bb-4e41-9c84-085964fd9145",
   "metadata": {},
   "outputs": [],
   "source": []
  }
 ],
 "metadata": {
  "kernelspec": {
   "display_name": "Python 3 (ipykernel)",
   "language": "python",
   "name": "python3"
  },
  "language_info": {
   "codemirror_mode": {
    "name": "ipython",
    "version": 3
   },
   "file_extension": ".py",
   "mimetype": "text/x-python",
   "name": "python",
   "nbconvert_exporter": "python",
   "pygments_lexer": "ipython3",
   "version": "3.12.1"
  }
 },
 "nbformat": 4,
 "nbformat_minor": 5
}
